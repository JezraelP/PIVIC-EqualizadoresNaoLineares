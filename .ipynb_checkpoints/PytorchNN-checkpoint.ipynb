{
 "cells": [
  {
   "cell_type": "code",
   "execution_count": null,
   "id": "91175b57",
   "metadata": {},
   "outputs": [],
   "source": []
  },
  {
   "cell_type": "code",
   "execution_count": 2,
   "id": "02695a06",
   "metadata": {},
   "outputs": [],
   "source": [
    "import torch\n",
    "from torch.distributions import Normal as normal\n",
    "import matplotlib.pyplot as plt"
   ]
  },
  {
   "cell_type": "markdown",
   "id": "7000ef6a",
   "metadata": {},
   "source": [
    "# Redes Neurais Artificiais com PyTorch\n",
    "# Sumário\n",
    "\n",
    "[1. Operações com Tensores](#heading--1)\n",
    "\n",
    "[2. DataSets e DataLoaders](#heading--2)\n",
    "   * [2.1 Carregando um DataSet](heading--2.1)\n",
    "   * [2.2 Criando um DataSet](heading--2.2)\n",
    "\n",
    "<a id=\"heading--1\"></a>\n",
    "## Operações com Tensores\n",
    "Os tensores no PyTorch são matrizes multidimensionais que representam dados. Eles são semelhantes aos arrays do Numpy, mas têm algumas vantagens, como poder ser operados em GPUs e armazenar o histórico de cálculos para facilitar a diferenciação automática.\n",
    "\n",
    "Os tensores podem ser criados a partir de listas Python, arrays Numpy ou valores aleatórios usando a classe torch.Tensor ou suas subclasses2. Os tensores são a base para o aprendizado profundo com PyTorch, pois permitem a construção e o treinamento de redes neurais complexas."
   ]
  },
  {
   "cell_type": "code",
   "execution_count": 4,
   "id": "2b64e736",
   "metadata": {},
   "outputs": [
    {
     "name": "stdout",
     "output_type": "stream",
     "text": [
      "Tensor aleatório:\n",
      " tensor([[0.9674, 0.8551, 0.3565, 0.8072],\n",
      "        [0.6514, 0.4890, 0.0211, 0.6418],\n",
      "        [0.2283, 0.3823, 0.5671, 0.5713]])\n",
      "\n",
      "Tensor preenchido com 1s:\n",
      " tensor([[1., 1.],\n",
      "        [1., 1.]])\n",
      "\n",
      "\n",
      "Indexação e Fatiamento:\n",
      "\n",
      "Primeira Linha: tensor([1., 1., 1., 1.])\n",
      "Primeira Coluna: tensor([1., 1., 1., 1.])\n",
      "Última Coluna: tensor([1., 1., 1., 1.])\n",
      "tensor([[1., 0., 1., 1.],\n",
      "        [1., 0., 1., 1.],\n",
      "        [1., 0., 1., 1.],\n",
      "        [1., 0., 1., 1.]])\n",
      "Concatenação:\n",
      "\n",
      "tensor([[1., 0., 1., 1.],\n",
      "        [1., 0., 1., 1.],\n",
      "        [1., 0., 1., 1.],\n",
      "        [1., 0., 1., 1.],\n",
      "        [1., 0., 1., 1.],\n",
      "        [1., 0., 1., 1.],\n",
      "        [1., 0., 1., 1.],\n",
      "        [1., 0., 1., 1.],\n",
      "        [1., 0., 1., 1.],\n",
      "        [1., 0., 1., 1.],\n",
      "        [1., 0., 1., 1.],\n",
      "        [1., 0., 1., 1.]])\n"
     ]
    }
   ],
   "source": [
    "tensor = torch.rand(3,4)\n",
    "tensor1 = torch.ones(2,2)\n",
    "\n",
    "print(\"Tensor aleatório:\\n\", tensor)\n",
    "print(\"\\nTensor preenchido com 1s:\\n\", tensor1)\n",
    "print(\"\\n\")\n",
    "\n",
    "#Indexação e fatiamento semelhante a Numpy\n",
    "\n",
    "print(\"Indexação e Fatiamento:\\n\")\n",
    "tensor = torch.ones(4, 4)\n",
    "print(f\"Primeira Linha: {tensor[0]}\")\n",
    "print(f\"Primeira Coluna: {tensor[:, 0]}\")\n",
    "print(f\"Última Coluna: {tensor[..., -1]}\")\n",
    "tensor[:,1] = 0\n",
    "print(tensor)\n",
    "\n",
    "print(\"Concatenação:\\n\")\n",
    "t1 = torch.cat([tensor, tensor, tensor], dim=0)    #dimensão do novo vetor\n",
    "print(t1)"
   ]
  },
  {
   "cell_type": "code",
   "execution_count": 5,
   "id": "d652876e",
   "metadata": {},
   "outputs": [
    {
     "name": "stdout",
     "output_type": "stream",
     "text": [
      "\n",
      "Matriz Transposta:\n",
      " tensor([[1., 1., 1., 1.],\n",
      "        [0., 0., 0., 0.],\n",
      "        [1., 1., 1., 1.],\n",
      "        [1., 1., 1., 1.]])\n",
      "\n",
      "Mutiplicação Matricial:\n",
      " tensor([[3., 3., 3., 3.],\n",
      "        [3., 3., 3., 3.],\n",
      "        [3., 3., 3., 3.],\n",
      "        [3., 3., 3., 3.]])\n"
     ]
    }
   ],
   "source": [
    "#Mutiplicação Matricial\n",
    "y0 = tensor.T\n",
    "\n",
    "y1 = tensor @ tensor.T\n",
    "y2 = tensor.matmul(tensor.T)\n",
    "print(\"\\nMatriz Transposta:\\n\", y0)\n",
    "print(\"\\nMutiplicação Matricial:\\n\", y2)"
   ]
  },
  {
   "cell_type": "code",
   "execution_count": 6,
   "id": "3370986a",
   "metadata": {},
   "outputs": [
    {
     "name": "stdout",
     "output_type": "stream",
     "text": [
      "Multiplicação termo a termo:\n",
      " tensor([[1., 0., 1., 1.],\n",
      "        [1., 0., 1., 1.],\n",
      "        [1., 0., 1., 1.],\n",
      "        [1., 0., 1., 1.]])\n"
     ]
    }
   ],
   "source": [
    "#Multiplicação termo a termo\n",
    "z1 = tensor * tensor\n",
    "z2 = tensor.mul(tensor)\n",
    "print(\"Multiplicação termo a termo:\\n\", z2)"
   ]
  },
  {
   "cell_type": "markdown",
   "id": "37fa513a",
   "metadata": {},
   "source": [
    "<a id=\"heading--2\"></a>\n",
    "## DataSets e DataLoaders"
   ]
  },
  {
   "cell_type": "markdown",
   "id": "ce9d893c",
   "metadata": {},
   "source": [
    "O código para processar amostras de dados pode ficar confuso e difícil de manter; idealmente, queremos que nosso código de conjunto de dados seja desacoplado do nosso código de treinamento de modelo para melhor legibilidade e modularidade. \n",
    "\n",
    "*Dataset* armazena as amostras e seus rótulos correspondentes, e *DataLoader* envolve um iterável em torno do *Dataset* para permitir um fácil acesso às amostras. PyTorch fornece duas primitivas de dados: **torch.utils.data.DataLoader** e __torch.utils.data.Dataset__ que permitem que você use conjuntos de dados pré-carregados, bem como seus próprios dados"
   ]
  },
  {
   "cell_type": "markdown",
   "id": "294720a6",
   "metadata": {},
   "source": [
    "<a id=\"heading--2-1\"></a>\n",
    "### Carregando um DataSet\n",
    "\n",
    "Aqui está um exemplo de como carregar o conjunto de dados Fashion-MNIST do TorchVision1. Fashion-MNIST é um conjunto de dados de imagens de artigos da Zalando, consistindo de 60.000 exemplos de treinamento e 10.000 exemplos de teste2. Cada exemplo é composto por uma imagem em escala de cinza de 28×28 e um rótulo associado de uma das 10 classes.\n",
    "\n",
    "Carregamos o conjunto de dados FashionMNIST com os seguintes parâmetros: \n",
    "\n",
    "**root** é o caminho onde os dados de treino/teste são armazenados,\n",
    "\n",
    "**train** especifica o conjunto de dados de treinamento ou teste,\n",
    "\n",
    "**download=True** baixa os dados da internet se eles não estiverem disponíveis em root.\n",
    "\n",
    "**transform** e **target_transform** especificam as transformações de características e rótulos"
   ]
  },
  {
   "cell_type": "code",
   "execution_count": 7,
   "id": "eb5b0117",
   "metadata": {},
   "outputs": [
    {
     "data": {
      "text/plain": [
       "'import torch\\nfrom torch.utils.data import Dataset\\nfrom torchvision import datasets\\nfrom torchvision.transforms import ToTensor\\nimport matplotlib.pyplot as plt\\n\\n\\ntraining_data = datasets.FashionMNIST(\\n    root=\"data\",\\n    train=True,\\n    download=True,\\n    transform=ToTensor()\\n)\\n\\ntest_data = datasets.FashionMNIST(\\n    root=\"data\",\\n    train=False,\\n    download=True,\\n    transform=ToTensor()\\n)'"
      ]
     },
     "execution_count": 7,
     "metadata": {},
     "output_type": "execute_result"
    }
   ],
   "source": [
    "\"\"\"import torch\n",
    "from torch.utils.data import Dataset\n",
    "from torchvision import datasets\n",
    "from torchvision.transforms import ToTensor\n",
    "import matplotlib.pyplot as plt\n",
    "\n",
    "\n",
    "training_data = datasets.FashionMNIST(\n",
    "    root=\"data\",\n",
    "    train=True,\n",
    "    download=True,\n",
    "    transform=ToTensor()\n",
    ")\n",
    "\n",
    "test_data = datasets.FashionMNIST(\n",
    "    root=\"data\",\n",
    "    train=False,\n",
    "    download=True,\n",
    "    transform=ToTensor()\n",
    ")\"\"\""
   ]
  },
  {
   "cell_type": "markdown",
   "id": "6ad09bae",
   "metadata": {},
   "source": [
    "<a id=\"heading--2-2\"></a>\n",
    "### Criando um Dataset\n",
    "Para a riação de um objeto que herde a classe Dataset, é necessário a utilização de três funções:\n",
    "\n",
    "__init__: Fornece o conjunto de dados para a calsse;\n",
    "__len__: Retorna o tamanho do conjunto de dados;\n",
    "__getitem__: Retorna o dado de indíce especificado.\n",
    "\n",
    "Os dados podem ser armazenados em arquivos externos como arquivos CSV, que contém tanto o conjunto de dados como a etiqueta dos dados. Também é possível passar parâmetros que representem funções, para geração de dados na própria criação da classe.\n"
   ]
  },
  {
   "cell_type": "code",
   "execution_count": 8,
   "id": "b0e557b5",
   "metadata": {},
   "outputs": [
    {
     "name": "stdout",
     "output_type": "stream",
     "text": [
      "tensor([[-1.0000e+01,  1.1535e+00],\n",
      "        [-8.9474e+00, -5.3121e-01],\n",
      "        [-7.8947e+00,  1.1902e+00],\n",
      "        [-6.8421e+00,  6.4579e-01],\n",
      "        [-5.7895e+00, -5.5179e-01],\n",
      "        [-4.7368e+00,  9.7327e-02],\n",
      "        [-3.6842e+00, -2.1316e-01],\n",
      "        [-2.6316e+00, -4.9574e-04],\n",
      "        [-1.5789e+00, -4.9607e-01],\n",
      "        [-5.2632e-01,  4.4596e-04],\n",
      "        [ 5.2632e-01, -1.6184e-01],\n",
      "        [ 1.5789e+00, -1.4959e+00],\n",
      "        [ 2.6316e+00, -4.5537e-01],\n",
      "        [ 3.6842e+00, -3.6144e-01],\n",
      "        [ 4.7368e+00, -1.2192e+00],\n",
      "        [ 5.7895e+00, -1.2033e+00],\n",
      "        [ 6.8421e+00, -5.1092e-01],\n",
      "        [ 7.8947e+00, -1.2741e+00],\n",
      "        [ 8.9474e+00,  3.7395e-01],\n",
      "        [ 1.0000e+01,  1.3769e+00]])\n"
     ]
    }
   ],
   "source": [
    "\"\"\"class Dados(Dataset):\n",
    "    def __init__(self, size):\n",
    "        self.dados = Normal(0, 1).sample(100, 2)\n",
    "    \n",
    "    def __len__(self):\n",
    "        return len(self.dados)\n",
    "    \n",
    "    def __getitem__(self, i):\n",
    "        return self.dados[i]\"\"\"\n",
    "x = torch.linspace(-10, 10, steps=20)\n",
    "\n",
    "# Gera valores aleatórios de uma distribuição normal\n",
    "y = torch.normal(mean=0, std=1, size=(20,))\n",
    "\n",
    "# Combina os dois tensores em um tensor bidimensional\n",
    "tensor_2d = torch.stack((x, y), dim=1)\n",
    "\n",
    "print(tensor_2d)"
   ]
  },
  {
   "cell_type": "code",
   "execution_count": null,
   "id": "2768ba6b",
   "metadata": {},
   "outputs": [],
   "source": [
    "x = [1, 2, 3, 4, 5]\n",
    "y = [2, 3, 5, 7, 11]\n",
    "\n",
    "plt.plot(x, y)\n",
    "\n",
    "# Para mostrar o gráfico\n",
    "plt.show()"
   ]
  },
  {
   "cell_type": "code",
   "execution_count": null,
   "id": "85e4ee13",
   "metadata": {},
   "outputs": [],
   "source": []
  }
 ],
 "metadata": {
  "kernelspec": {
   "display_name": "Python 3 (ipykernel)",
   "language": "python",
   "name": "python3"
  },
  "language_info": {
   "codemirror_mode": {
    "name": "ipython",
    "version": 3
   },
   "file_extension": ".py",
   "mimetype": "text/x-python",
   "name": "python",
   "nbconvert_exporter": "python",
   "pygments_lexer": "ipython3",
   "version": "3.9.13"
  }
 },
 "nbformat": 4,
 "nbformat_minor": 5
}
