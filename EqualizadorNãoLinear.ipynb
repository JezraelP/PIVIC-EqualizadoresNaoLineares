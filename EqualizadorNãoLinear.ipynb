{
 "cells": [
  {
   "cell_type": "markdown",
   "id": "db383e11",
   "metadata": {},
   "source": [
    "# Equalizador Não Linear para um Sistema de Comunicações Ópticos Utilizando Redes Neurais"
   ]
  },
  {
   "cell_type": "code",
   "execution_count": 1,
   "id": "8c5818e1",
   "metadata": {},
   "outputs": [],
   "source": [
    "import numpy as np\n",
    "from commpy.utilities  import upsample\n",
    "from optic.models.devices import mzm, photodiode, edfa\n",
    "from optic.models.channels import linearFiberChannel\n",
    "from optic.comm.modulation import GrayMapping, modulateGray, demodulateGray\n",
    "from optic.comm.metrics import  theoryBER\n",
    "from optic.dsp.core import pulseShape, lowPassFIR, pnorm, signal_power\n",
    "\n",
    "try:\n",
    "    from optic.dsp.coreGPU import firFilter    \n",
    "except ImportError:\n",
    "    from optic.dsp.core import firFilter\n",
    "    \n",
    "from optic.utils import parameters, dBm2W\n",
    "from optic.plot import eyediagram, pconst\n",
    "import matplotlib.pyplot as plt\n",
    "from scipy.special import erfc\n",
    "from tqdm.notebook import tqdm\n",
    "import scipy as sp\n",
    "\n"
   ]
  },
  {
   "cell_type": "code",
   "execution_count": 2,
   "id": "b31416d9",
   "metadata": {},
   "outputs": [],
   "source": [
    "from IPython.core.display import HTML\n",
    "from IPython.core.pylabtools import figsize\n",
    "\n",
    "figsize(10, 3)"
   ]
  },
  {
   "cell_type": "code",
   "execution_count": 3,
   "id": "79afa95f",
   "metadata": {},
   "outputs": [],
   "source": [
    "# %load_ext autoreload\n",
    "# %autoreload 2"
   ]
  },
  {
   "cell_type": "code",
   "execution_count": 4,
   "id": "fa91d7bb",
   "metadata": {},
   "outputs": [],
   "source": [
    "np.random.seed(seed=123)"
   ]
  },
  {
   "cell_type": "markdown",
   "id": "f9f2e5a2",
   "metadata": {},
   "source": [
    "# Funções para Simulação de Sistemas Ópticos"
   ]
  },
  {
   "cell_type": "code",
   "execution_count": 5,
   "id": "b9fc5f9f",
   "metadata": {},
   "outputs": [],
   "source": [
    "def SimulaSinalOptico(SpS, Rs, M, mod_format = 'pam', num_symbs = 1e6, pulse_format = 'nrz', MZM_Vpi = 2, Pi_dBm = 0, Pi_in = 0.5):\n",
    "    \n",
    "    Fs = SpS*Rs \n",
    "    Pi_W = dBm2W(Pi_dBm)\n",
    "    \n",
    "    paramMZM = parameters()\n",
    "    paramMZM.Vpi = MZM_Vpi\n",
    "    paramMZM.Vb = -paramMZM.Vpi/2\n",
    "    \n",
    "    bitsTx = np.random.randint(2, size = int(np.log2(M)*num_symbs))\n",
    "    \n",
    "    symbTx = modulateGray(bitsTx, M, mod_format)    \n",
    "    symbTx = pnorm(symbTx) # normaliza a potência \n",
    "    \n",
    "    symbUp = upsample(symbTx, SpS)\n",
    "    \n",
    "    pulse = pulseShape(pulse_format, SpS)\n",
    "    pulse = pulse/max(abs(pulse))\n",
    "    \n",
    "    sigTx = firFilter(pulse, symbUp)\n",
    "    \n",
    "    \n",
    "    Ai = np.sqrt(Pi_W)\n",
    "    sigTxo = mzm(Ai, Pi_in*sigTx, paramMZM)\n",
    "    \n",
    "    return sigTxo, symbTx\n",
    "def SimulaCanalOptico(sinal, SpS, Rs, dist_fibra, perda_fibra = 0.2, dispersao = 16, freq_central = 193.1e12, ruido = 4.5):\n",
    "     \n",
    "    Fs = SpS*Rs\n",
    "    paramCh = parameters()\n",
    "    paramCh.L = dist_fibra         # Distância [km]\n",
    "    paramCh.α = perda_fibra        # Parâmetro de perdas da fibra [dB/km]\n",
    "    paramCh.D = dispersao         # Parâmetro de dispersão da fibra [ps/nm/km]\n",
    "    paramCh.Fc = freq_central  # Frequência óptica central [Hz]\n",
    "    paramCh.Fs = Fs        # Frequência de amostragem da simulação [samples/second]\n",
    "    \n",
    "    sigCh = linearFiberChannel(sinal, paramCh)\n",
    "    \n",
    "    # Pré-amplificador do receptor\n",
    "    paramEDFA = parameters()\n",
    "    paramEDFA.G = paramCh.α*paramCh.L    # ganho edfa\n",
    "    paramEDFA.NF = ruido   # edfa noise figure \n",
    "    paramEDFA.Fc = paramCh.Fc\n",
    "    paramEDFA.Fs = Fs\n",
    "\n",
    "    sigCh = edfa(sigCh, paramEDFA)\n",
    "    \n",
    "    paramPD = parameters()\n",
    "    paramPD.ideal = False\n",
    "    paramPD.B = Rs\n",
    "    paramPD.Fs = Fs\n",
    "\n",
    "    I_Rx = photodiode(sigCh, paramPD)\n",
    "    \n",
    "    return I_Rx\n",
    "\n",
    "def RecuperaBits(sinal, SpS, M, mod_format = 'pam'):\n",
    "    #Normaliza o sinal e seleciona os valores no intervalo de sinalização\n",
    "    sinal = sinal/np.std(sinal)\n",
    "    amostras = sinal[0::SpS]\n",
    "    \n",
    "\n",
    "    #Tira o nível DC e normaliza a potência\n",
    "    amostras = amostras - amostras.mean()\n",
    "    amostras = pnorm(amostras)\n",
    "    \n",
    "\n",
    "    # Demodula os símbolos para bits usando a mínima distância euclidiana \n",
    "    const = GrayMapping(M, mod_format) \n",
    "    Es = signal_power(const) \n",
    "\n",
    "    bits = demodulateGray(np.sqrt(Es)*amostras, M, mod_format)\n",
    "    \n",
    "    return bits\n",
    "\n",
    "def CalculaBER(bits_transmitidos, bits_recebidos):\n",
    "    discard = 100\n",
    "    err = np.logical_xor(bits_recebidos[discard:bits_recebidos.size-discard], bits_transmitidos[discard:bits_transmitidos.size-discard])\n",
    "    BER = np.mean(err)\n",
    "\n",
    "    #Pb = 0.5*erfc(Q/np.sqrt(2)) # theoretical error probability\n",
    "    print('Number of counted errors = %d '%(err.sum()))\n",
    "    print('BER = %.2e '%(BER))\n",
    "    #print('Pb = %.2e '%(Pb))\n",
    "\n",
    "    err = err*1.0\n",
    "    err[err==0] = np.nan\n",
    "\n",
    "    plt.plot(err,'o', label = 'bit errors')\n",
    "    plt.vlines(np.where(err>0), 0, 1)\n",
    "    plt.xlabel('bit position')\n",
    "    plt.ylabel('counted error')\n",
    "    plt.legend()\n",
    "    plt.grid()\n",
    "    plt.ylim(0, 1.5)\n",
    "    plt.xlim(0,err.size);\n",
    "\n",
    "def CriaDataSet(symb,signal, SpS_in, train_pct = 0.8, Ntaps = 64, SpS_out = 1, batch_size = 64, shuffle = False):\n",
    "    \n",
    "    Nsymbols = len(symb)\n",
    "    \n",
    "    signal_full = pnorm(signal[0::SpS_in//SpS_out])   #Recupera o sinal nos intervalos de sinalização\n",
    "    signal = pnorm(signal[0:Nsymbols*SpS_in:SpS_in//SpS_out])\n",
    "    symbols = pnorm(symb[0:Nsymbols])   #Símbolos a serem passados como alvo do equalizador\n",
    "\n",
    "    signal = (signal - np.mean(signal))/np.std(signal)\n",
    "    signal_full = (signal_full - np.mean(signal_full))/np.std(signal_full)\n",
    "    symbols = (symbols - np.mean(symbols))/np.std(symbols)\n",
    "    \n",
    "    symbols = symbols.reshape(-1,1)\n",
    "    \n",
    "    idx_train = np.arange(0, int(train_pct * len(symbols)))\n",
    "    idx_eval = np.arange(int(train_pct * len(symbols)), len(symbols))\n",
    "\n",
    "    sig_train = signal[idx_train] #80% para treinamento\n",
    "    sig_test = signal[idx_eval]   #20% para avaliação do progresso\n",
    "    sig_full = signal_full        #100% para teste\n",
    "    \n",
    "    train_dataset = slidingWindowDataSet(sig_train, symbols[idx_train], Ntaps, SpS_out)\n",
    "    test_dataset = slidingWindowDataSet(sig_test, symbols[idx_eval], Ntaps, SpS_out)\n",
    "    full_dataset = slidingWindowDataSet(signal_full, symbols, Ntaps, SpS_out)\n",
    "    \n",
    "    \n",
    "    return train_dataset, test_dataset, full_dataset"
   ]
  },
  {
   "cell_type": "code",
   "execution_count": 6,
   "id": "cc81c669",
   "metadata": {},
   "outputs": [
    {
     "name": "stdout",
     "output_type": "stream",
     "text": [
      "Help on function linearFiberChannel in module optic.models.channels:\n",
      "\n",
      "linearFiberChannel(Ei, param)\n",
      "    Simulate signal propagation through a linear fiber channel.\n",
      "    \n",
      "    Parameters\n",
      "    ----------\n",
      "    Ei : np.array\n",
      "        Input optical field.\n",
      "    param : parameter object  (struct)\n",
      "        Object with physical/simulation parameters of the optical channel.\n",
      "    \n",
      "        - param.L: total fiber length [km][default: 50 km]\n",
      "    \n",
      "        - param.alpha: fiber attenuation parameter [dB/km][default: 0.2 dB/km]\n",
      "    \n",
      "        - param.D: chromatic dispersion parameter [ps/nm/km][default: 16 ps/nm/km]\n",
      "    \n",
      "        - param.Fc: carrier frequency [Hz] [default: 193.1e12 Hz]\n",
      "    \n",
      "        - param.Fs: sampling frequency [Hz] [default: None]\n",
      "    \n",
      "        - param.returnParameters: bool, return channel parameters [default: False]\n",
      "    \n",
      "    Returns\n",
      "    -------\n",
      "    Eo : np.array\n",
      "        Optical field at the output of the fiber.\n",
      "\n"
     ]
    }
   ],
   "source": [
    "help(linearFiberChannel)"
   ]
  },
  {
   "cell_type": "code",
   "execution_count": 7,
   "id": "3aab916e",
   "metadata": {},
   "outputs": [
    {
     "name": "stdout",
     "output_type": "stream",
     "text": [
      "Formato do array de bits:  (2000000,)\n",
      "Formato do array dos bits modulados em PAM:  (1000000,)\n",
      "Formato do array depois do upsampling  (16000000,)\n",
      "Formato do array depois da formataç~~ao de pulso:  (16000000,)\n",
      "Potência média do sinal ótpico modulado [mW]: 0.500 mW\n",
      "Potência média do sinal óptico modualdo [dBm: -3.009 dBm]\n",
      "Quantidade de bits:  2000000\n"
     ]
    },
    {
     "data": {
      "text/plain": [
       "\"\\n#Plot da PSD\\naxs[0].set_xlim(-3*Rs, 3*Rs);\\naxs[0].set_ylim(-180, -80);\\naxs[0].psd(sigTx, Fs = Fs, NFFT = 16*1024, sides = 'twosided', label = 'Espectro do sinal RF')\\naxs[0]. legend(loc = 'upper left');\\n\\naxs[1].plot(t, sigTx[interval], label = 'Sinal binário RF', linewidth = 2)\\naxs[1].set_ylabel('Amplitude (a.u.)')\\naxs[1].set_xlabel('Tempo (ns)')\\naxs[1].set_xlim(min(t),max(t))\\naxs[1].legend(loc='upper left')\\naxs[1].grid()\\n\\nfig, axs = plt.subplots(1, 2, figsize=(16,3))\\n# plot psd\\naxs[0].set_xlim(-3*Rs,3*Rs);\\naxs[0].set_ylim(-255,-155);\\naxs[0].psd(np.abs(sigTxo)**2, Fs=Fs, NFFT = 16*1024, sides='twosided', label = 'Espectro do sinal óptico')\\naxs[0].legend(loc='upper left');\\n\\naxs[1].plot(t, np.abs(sigTxo[interval])**2, label = 'Sinal modulado óptico', linewidth=2)\\naxs[1].set_ylabel('Potência (p.u.)')\\naxs[1].set_xlabel('Tempo (ns)')\\naxs[1].set_xlim(min(t),max(t))\\naxs[1].legend(loc='upper left')\\naxs[1].grid()\""
      ]
     },
     "execution_count": 7,
     "metadata": {},
     "output_type": "execute_result"
    },
    {
     "data": {
      "image/png": "[encoded data removed]",
      "text/plain": [
       "<Figure size 1600x300 with 2 Axes>"
      ]
     },
     "metadata": {},
     "output_type": "display_data"
    }
   ],
   "source": [
    "# Parâmetros para simulação\n",
    "Sps = 16  # Amostras por símbolo\n",
    "M = 4              # Ordem do formato de modulação\n",
    "Rs = 10e9          # taxa de símbolos\n",
    "Fs = Sps*Rs        # taxa de amostragem\n",
    "Ts = 1/Fs\n",
    "\n",
    "#Potência do laser na entrada do modulador Mach-Zehnder em dbm e W\n",
    "Pi_dbm = 0\n",
    "Pi_W = dBm2W(Pi_dbm)\n",
    "\n",
    "#Parâmetros do Mach-Zehnder\n",
    "paramMZM = parameters()\n",
    "paramMZM.Vpi = 2\n",
    "paramMZM.Vb = -paramMZM.Vpi/2\n",
    "\n",
    "#Sequência de bits aleatórios\n",
    "bitsTx = np.random.randint(2, size = int(np.log2(M)*1e6))\n",
    "print(\"Formato do array de bits: \", bitsTx.shape)\n",
    "\n",
    "#Sequência de símbolos modulados em OOK\n",
    "symbTx = modulateGray(bitsTx, M, 'pam')    \n",
    "symbTx = pnorm(symbTx) # normaliza a potência\n",
    "print(\"Formato do array dos bits modulados em PAM: \", symbTx.shape)\n",
    "\n",
    "#upsampling\n",
    "symbUp = upsample(symbTx, Sps)\n",
    "print(\"Formato do array depois do upsampling \", symbUp.shape)\n",
    "\n",
    "#Pulso NRZ\n",
    "pulse = pulseShape('nrz', Sps)\n",
    "pulse = pulse/max(abs(pulse))\n",
    "\n",
    "#Formatação de pulso\n",
    "sigTx = firFilter(pulse, symbUp)\n",
    "print(\"Formato do array depois da formataç~~ao de pulso: \", sigTx.shape)\n",
    "\n",
    "#Modulação óptica\n",
    "Ai = np.sqrt(Pi_W)\n",
    "sigTxo = mzm(Ai, 0.5*sigTx, paramMZM)\n",
    "\n",
    "print('Potência média do sinal ótpico modulado [mW]: %.3f mW'%(signal_power(sigTxo)/1e-3))\n",
    "print('Potência média do sinal óptico modualdo [dBm: %.3f dBm]'%(10*np.log10(signal_power(sigTxo)/1e-3)))\n",
    "print('Quantidade de bits: ', len(bitsTx))\n",
    "fig, axs = plt.subplots(1, 2, figsize=(16,3))\n",
    "interval = np.arange(16*20,16*50)\n",
    "t = interval*Ts/1e-9\n",
    "'''\n",
    "#Plot da PSD\n",
    "axs[0].set_xlim(-3*Rs, 3*Rs);\n",
    "axs[0].set_ylim(-180, -80);\n",
    "axs[0].psd(sigTx, Fs = Fs, NFFT = 16*1024, sides = 'twosided', label = 'Espectro do sinal RF')\n",
    "axs[0]. legend(loc = 'upper left');\n",
    "\n",
    "axs[1].plot(t, sigTx[interval], label = 'Sinal binário RF', linewidth = 2)\n",
    "axs[1].set_ylabel('Amplitude (a.u.)')\n",
    "axs[1].set_xlabel('Tempo (ns)')\n",
    "axs[1].set_xlim(min(t),max(t))\n",
    "axs[1].legend(loc='upper left')\n",
    "axs[1].grid()\n",
    "\n",
    "fig, axs = plt.subplots(1, 2, figsize=(16,3))\n",
    "# plot psd\n",
    "axs[0].set_xlim(-3*Rs,3*Rs);\n",
    "axs[0].set_ylim(-255,-155);\n",
    "axs[0].psd(np.abs(sigTxo)**2, Fs=Fs, NFFT = 16*1024, sides='twosided', label = 'Espectro do sinal óptico')\n",
    "axs[0].legend(loc='upper left');\n",
    "\n",
    "axs[1].plot(t, np.abs(sigTxo[interval])**2, label = 'Sinal modulado óptico', linewidth=2)\n",
    "axs[1].set_ylabel('Potência (p.u.)')\n",
    "axs[1].set_xlabel('Tempo (ns)')\n",
    "axs[1].set_xlim(min(t),max(t))\n",
    "axs[1].legend(loc='upper left')\n",
    "axs[1].grid()'''"
   ]
  },
  {
   "cell_type": "code",
   "execution_count": 8,
   "id": "9c97376a",
   "metadata": {},
   "outputs": [],
   "source": [
    "#eyediagram(sigTx[discard:-discard], sigTx.size-2*discard, Sps, plotlabel='signal at Tx', ptype='fancy')"
   ]
  },
  {
   "cell_type": "code",
   "execution_count": 9,
   "id": "7980cced",
   "metadata": {},
   "outputs": [],
   "source": [
    "# Canal óptico linear\n",
    "paramCh = parameters()\n",
    "paramCh.L = 100         # Distância [km]\n",
    "paramCh.α = 0.2        # Parâmetro de perdas da fibra [dB/km]\n",
    "paramCh.D = 16         # Parâmetro de dispersão da fibra [ps/nm/km]\n",
    "paramCh.Fc = 193.1e12  # Frequência óptica central [Hz]\n",
    "paramCh.Fs = Fs        # Frequência de amostragem da simulação [samples/second]\n",
    "\n",
    "sigCh = linearFiberChannel(sigTxo, paramCh)\n",
    "\n",
    "# Pré-amplificador do receptor\n",
    "paramEDFA = parameters()\n",
    "paramEDFA.G = paramCh.α*paramCh.L    # ganho edfa\n",
    "paramEDFA.NF = 4.6   # edfa noise figure \n",
    "paramEDFA.Fc = paramCh.Fc\n",
    "paramEDFA.Fs = Fs\n",
    "\n",
    "sigCh = edfa(sigCh, paramEDFA)"
   ]
  },
  {
   "cell_type": "code",
   "execution_count": 10,
   "id": "38f9cba9",
   "metadata": {},
   "outputs": [
    {
     "name": "stdout",
     "output_type": "stream",
     "text": [
      "Formato do array no final do canal (16000000,)\n"
     ]
    }
   ],
   "source": [
    "# fotodiodo ideal (sem ruído e limitação de banda)\n",
    "paramPD = parameters()\n",
    "paramPD.ideal = True\n",
    "paramPD.Fs = Fs\n",
    "I_Rx_ideal = photodiode(sigTxo.real, paramPD)\n",
    "\n",
    "# noisy photodiode (ruídos térmico e de disparo + limitação de banda)\n",
    "paramPD = parameters()\n",
    "paramPD.ideal = False\n",
    "paramPD.B = Rs\n",
    "paramPD.Fs = Fs\n",
    "\n",
    "I_Rx = photodiode(sigCh, paramPD)\n",
    "print(\"Formato do array no final do canal\", I_Rx.shape)\n",
    "discard = 100\n",
    "\n",
    "#eyediagram(I_Rx_ideal[discard:-discard], I_Rx.size-2*discard, Sps, plotlabel='signal at Tx', ptype='fancy')\n",
    "#eyediagram(I_Rx[discard:-discard], I_Rx.size-2*discard, Sps, plotlabel='signal at Rx', ptype='fancy')"
   ]
  },
  {
   "cell_type": "code",
   "execution_count": 11,
   "id": "b8807529",
   "metadata": {},
   "outputs": [
    {
     "name": "stdout",
     "output_type": "stream",
     "text": [
      "Number of counted errors = 33033 \n",
      "BER = 1.65e-02 \n"
     ]
    },
    {
     "data": {
      "image/png": "[encoded data removed]",
      "text/plain": [
       "<Figure size 1000x300 with 1 Axes>"
      ]
     },
     "metadata": {},
     "output_type": "display_data"
    }
   ],
   "source": [
    "#Recupera os bits do sinal\n",
    "\n",
    "bitsr1 = RecuperaBits(sinal = I_Rx, SpS = Sps, M = M)\n",
    "bitst1 = RecuperaBits(sinal = sigTx, SpS = Sps, M = M)\n",
    "\n",
    "#Calcula a taxa de erro entre os bits\n",
    "\n",
    "CalculaBER(bitst1, bitsr1)"
   ]
  },
  {
   "cell_type": "markdown",
   "id": "eada91ae",
   "metadata": {},
   "source": [
    "# Segunda Simulação, para Teste da Rede Neural"
   ]
  },
  {
   "cell_type": "code",
   "execution_count": 12,
   "id": "ce051aeb",
   "metadata": {},
   "outputs": [],
   "source": [
    "#Parâmetros do Sinal\n",
    "SpS2 = 16  # Amostras por símbolo\n",
    "M2 = 4              # Ordem do formato de modulação\n",
    "Rs2 = 10e9          # taxa de símbolos\n",
    "\n",
    "#Simulação do Sinal\n",
    "sinalt, symbt = SimulaSinalOptico(SpS = SpS2, M = M2, Rs = Rs2)\n",
    "\n"
   ]
  },
  {
   "cell_type": "code",
   "execution_count": 13,
   "id": "ab4e597c",
   "metadata": {},
   "outputs": [],
   "source": [
    "#Parâmetros do Canal\n",
    "dist_fibra = 100\n",
    "ruido = 4.5\n",
    "\n",
    "sinalr = SimulaCanalOptico(sinal = sinalt, Rs = Rs2, SpS = SpS2,  dist_fibra = dist_fibra, ruido = ruido)\n",
    "\n",
    "discard = 100\n",
    "#eyediagram(sinalr[discard:-discard], sinalr.size-2*discard, SpS2, plotlabel='signal at Rx', ptype='fancy')"
   ]
  },
  {
   "cell_type": "code",
   "execution_count": 14,
   "id": "f7d020ee",
   "metadata": {},
   "outputs": [
    {
     "name": "stdout",
     "output_type": "stream",
     "text": [
      "Number of counted errors = 32982 \n",
      "BER = 1.65e-02 \n"
     ]
    },
    {
     "data": {
      "image/png": "[encoded data removed]",
      "text/plain": [
       "<Figure size 1000x300 with 1 Axes>"
      ]
     },
     "metadata": {},
     "output_type": "display_data"
    }
   ],
   "source": [
    "#Recupera os bits do sinal\n",
    "\n",
    "bitsr2 = RecuperaBits(sinal = sinalr, SpS = SpS2, M = M2)\n",
    "bitst2 = RecuperaBits(sinal = sinalt, SpS = SpS2, M = M2)\n",
    "#Calcula a taxa de erro entre os bits\n",
    "\n",
    "CalculaBER(bitst2, bitsr2)"
   ]
  },
  {
   "cell_type": "markdown",
   "id": "448a4c04",
   "metadata": {},
   "source": [
    "# Criando um Conjunto de Dados para Alimentar a Rede Neural"
   ]
  },
  {
   "cell_type": "code",
   "execution_count": 15,
   "id": "e07ab760",
   "metadata": {},
   "outputs": [],
   "source": [
    "import matplotlib.pyplot as plt\n",
    "import torch\n",
    "from torch import nn\n",
    "from torch.utils.data import DataLoader\n",
    "from torch.utils.data import Dataset\n",
    "from optic.torchUtils import slidingWindowDataSet, MLP\n",
    "\n",
    "import os\n",
    "os.environ['KMP_DUPLICATE_LIB_OK'] = 'True'\n",
    "\n"
   ]
  },
  {
   "cell_type": "code",
   "execution_count": 16,
   "id": "7c26361d",
   "metadata": {},
   "outputs": [],
   "source": [
    "# Define o número de taps e de amostras por símbolo\n",
    "Ntaps = 64\n",
    "SpS_in = 16\n",
    "SpS_out = 1\n",
    "Nsymbols_train = len(symbTx)\n",
    "Nsymbols_test = len(symbt)\n",
    "\n",
    "batch_size = 64\n",
    "shuffle = False\n",
    "\n",
    "# Pré-processamento dos dados\n",
    "\n",
    "#Dados de treino e acompanhamento do progresso (1ª Simulação)\n",
    "signal_train_full = pnorm(I_Rx[0::SpS_in//SpS_out])   #Recupera o sinal nos intervalos de sinalização\n",
    "signal_train = pnorm(I_Rx[0:Nsymbols_train*SpS_in:SpS_in//SpS_out])\n",
    "symbols_train = pnorm(symbTx[0:Nsymbols_train])   #Símbolos a serem passados como alvo do equalizador\n",
    "\n",
    "signal_train = (signal_train - np.mean(signal_train))/np.std(signal_train)\n",
    "signal_train_full = (signal_train_full - np.mean(signal_train_full))/np.std(signal_train_full)\n",
    "symbols_train = (symbols_train - np.mean(symbols_train))/np.std(symbols_train)\n",
    "\n",
    "#Dados de Teste (2ª Simulação)\n",
    "signal_test_full = pnorm(sinalr[0::SpS_in//SpS_out])   \n",
    "signal_test = pnorm(sinalr[0:Nsymbols_test*SpS_in:SpS_in//SpS_out])\n",
    "symbols_test = pnorm(symbt[0:Nsymbols_test])\n",
    "\n",
    "signal_test = (signal_test - np.mean(signal_test))/np.std(signal_test)\n",
    "signal_test_full = (signal_test_full - np.mean(signal_test_full))/np.std(signal_test_full)\n",
    "symbols_test = (symbols_test - np.mean(symbols_test))/np.std(symbols_test)\n",
    "\n",
    "symbols_train = symbols_train.reshape(-1,1)\n",
    "symbols_test = symbols_test.reshape(-1, 1)\n",
    "\n",
    "\n",
    "#Criação dos Datasets\n",
    "\n",
    "idxtrain = np.arange(0, int(0.8 * len(symbols_train)))\n",
    "idxprogress = np.arange(int(0.8 * len(symbols_train)), len(symbols_train))\n",
    "\n",
    "sig_train = signal_train[idxtrain] #80% para treinamento\n",
    "sig_progress = signal_train[idxprogress]   #20% para avaliação do progresso\n",
    "sig_test = signal_test_full        #100% para teste\n",
    "\n",
    "\n",
    "train_dataset = slidingWindowDataSet(sig_train, symbols_train[idxtrain], Ntaps, SpS_out)\n",
    "progress_dataset = slidingWindowDataSet(sig_progress, symbols_train[idxprogress], Ntaps, SpS_out)\n",
    "test_dataset1 = slidingWindowDataSet(signal_train, symbols_train, Ntaps, SpS_out)\n",
    "test_dataset2 = slidingWindowDataSet(signal_test_full, symbols_test, Ntaps, SpS_out)\n",
    "\n",
    "#Criação dos Dataloaders\n",
    "train_dataloader = DataLoader(train_dataset, batch_size=batch_size, shuffle=shuffle)\n",
    "progress_dataloader = DataLoader(progress_dataset, batch_size=batch_size, shuffle=shuffle)\n",
    "test_dataloader1 = DataLoader(test_dataset1, batch_size=batch_size, shuffle=shuffle)\n",
    "test_dataloader2 = DataLoader(test_dataset2, batch_size=batch_size, shuffle=shuffle)\n",
    "dataloader_full = DataLoader(test_dataset2, batch_size = len(test_dataset2), shuffle = shuffle)\n"
   ]
  },
  {
   "cell_type": "code",
   "execution_count": 17,
   "id": "bf5130c0",
   "metadata": {},
   "outputs": [
    {
     "name": "stdout",
     "output_type": "stream",
     "text": [
      "(1000000,)\n",
      "(1000000,)\n"
     ]
    }
   ],
   "source": [
    "print(signal_test.shape)\n",
    "print(signal_test_full.shape)"
   ]
  },
  {
   "cell_type": "markdown",
   "id": "1cbcbe2f",
   "metadata": {},
   "source": [
    "# Criação de uma rede neural para equalização"
   ]
  },
  {
   "cell_type": "code",
   "execution_count": 18,
   "id": "ae4dd2cd",
   "metadata": {},
   "outputs": [],
   "source": [
    "#Cria uma rede neural com quatro camadas e usa ReLU como camada oculta entre elas\n",
    "equalizer = MLP([Ntaps, 32, 16, 8, 4, 1])"
   ]
  },
  {
   "cell_type": "markdown",
   "id": "419d358f",
   "metadata": {},
   "source": [
    "# Treinamento da rede com dados da simulação"
   ]
  },
  {
   "cell_type": "code",
   "execution_count": 19,
   "id": "a0880586",
   "metadata": {},
   "outputs": [],
   "source": [
    "#Definição dos hiperparâmetros\n",
    "loss = nn.MSELoss()\n",
    "optimizer = torch.optim.Adam(equalizer.parameters(), lr = 0.0006)\n",
    "epochs = 4\n",
    "cada_print = 10000"
   ]
  },
  {
   "cell_type": "code",
   "execution_count": 20,
   "id": "839763c1",
   "metadata": {},
   "outputs": [],
   "source": [
    "#Definição dos loops de treino e avaliação\n",
    "def train_loop(train_dataloader, equalizer, loss, optimizer, cada_print):\n",
    "    size = len(train_dataloader.dataset)\n",
    "    \n",
    "    equalizer.train()\n",
    "    for batch, (x, y) in enumerate(train_dataloader):\n",
    "        x, y = x.float(), y.float()\n",
    "        predict = equalizer(x)\n",
    "        loss_value = loss(predict, y)\n",
    "        \n",
    "        loss_value.backward()\n",
    "        optimizer.step()\n",
    "        optimizer.zero_grad()\n",
    "        \n",
    "        if batch % cada_print == 0:\n",
    "            loss_value, current = loss_value.item(), (batch+1)*len(x)\n",
    "            print(f\"loss: {loss_value:>7f}[{current:>5d}/{size:>5d}]\" )\n",
    "\n",
    "def test_loop(progress_dataloader, equalizer, loss):\n",
    "    size = len(progress_dataloader.dataset)\n",
    "    num_batches = len(progress_dataloader)\n",
    "    equalizer.eval()\n",
    "    eval_loss = 0\n",
    "    with torch.no_grad():\n",
    "        for x, y in progress_dataloader:\n",
    "            x, y = x.float(), y.float()\n",
    "            pred = equalizer(x)\n",
    "            eval_loss += loss(pred, y).item()\n",
    "    eval_loss /= num_batches\n",
    "    print(f\"Perda média: {eval_loss:>8f} \\n\")"
   ]
  },
  {
   "cell_type": "code",
   "execution_count": 22,
   "id": "d04a9ca1",
   "metadata": {},
   "outputs": [
    {
     "name": "stdout",
     "output_type": "stream",
     "text": [
      "Época 1\n",
      "-------------------------------\n",
      "loss: 0.011389[   64/800000]\n",
      "loss: 0.000914[640064/800000]\n",
      "Perda média: 0.000583 \n",
      "\n",
      "Época 2\n",
      "-------------------------------\n",
      "loss: 0.012512[   64/800000]\n",
      "loss: 0.000710[640064/800000]\n",
      "Perda média: 0.000660 \n",
      "\n",
      "Época 3\n",
      "-------------------------------\n",
      "loss: 0.012524[   64/800000]\n",
      "loss: 0.000413[640064/800000]\n",
      "Perda média: 0.000438 \n",
      "\n",
      "Época 4\n",
      "-------------------------------\n",
      "loss: 0.012316[   64/800000]\n",
      "loss: 0.000103[640064/800000]\n",
      "Perda média: 0.000298 \n",
      "\n",
      "Pronto!\n"
     ]
    }
   ],
   "source": [
    "for t in range(epochs):\n",
    "    print(f\"Época {t+1}\\n-------------------------------\")\n",
    "    train_loop(train_dataloader, equalizer, loss, optimizer)\n",
    "    test_loop(progress_dataloader, equalizer, loss)\n",
    "print(\"Pronto!\")"
   ]
  },
  {
   "cell_type": "code",
   "execution_count": null,
   "id": "9fc7a00f",
   "metadata": {},
   "outputs": [],
   "source": [
    "#Salva o modelo e seus parâmetros\n",
    "#torch.save(equalizer, 'Equalizer5LayerReLU.pth')"
   ]
  },
  {
   "cell_type": "code",
   "execution_count": 24,
   "id": "e51038fc",
   "metadata": {},
   "outputs": [
    {
     "name": "stdout",
     "output_type": "stream",
     "text": [
      "Perda média: 0.000306 \n",
      "\n",
      "Perda média: 0.000313 \n",
      "\n"
     ]
    }
   ],
   "source": [
    "test_loop(test_dataloader2, equalizer, loss)\n",
    "test_loop(test_dataloader1, equalizer, loss)"
   ]
  },
  {
   "cell_type": "code",
   "execution_count": 27,
   "id": "dae9ecdd",
   "metadata": {},
   "outputs": [],
   "source": [
    "    equalizer.eval()\n",
    "    with torch.no_grad():\n",
    "        for batch, (X, y) in enumerate(dataloader_full):\n",
    "            X = X.float()\n",
    "            pred = equalizer(X)\n",
    "            symbRx_NN = pred\n",
    "\n",
    "            symbRx_NN = symbRx_NN.numpy().reshape(-1,)\n",
    "\n",
    "            break"
   ]
  },
  {
   "cell_type": "code",
   "execution_count": 28,
   "id": "1a5b5bd3",
   "metadata": {},
   "outputs": [
    {
     "name": "stdout",
     "output_type": "stream",
     "text": [
      "(1000000,)\n",
      "(1000000,)\n",
      "(2000000,)\n",
      "(2000000,)\n",
      "Number of counted errors = 129 \n",
      "BER = 6.45e-05 \n"
     ]
    },
    {
     "data": {
      "image/png": "[encoded data removed]",
      "text/plain": [
       "<Figure size 1000x300 with 1 Axes>"
      ]
     },
     "metadata": {},
     "output_type": "display_data"
    }
   ],
   "source": [
    "const = GrayMapping(M, 'pam') \n",
    "Es = signal_power(const)\n",
    "bitsRx_NN = demodulateGray(np.sqrt(Es)*pnorm(symbRx_NN), M, 'pam')\n",
    "bitt = demodulateGray(np.sqrt(Es)*pnorm(symbt), M, 'pam')\n",
    "print(symbRx_NN.shape)\n",
    "print(symbt.shape)\n",
    "print(bitsRx_NN.shape)\n",
    "print(bitt.shape)\n",
    "CalculaBER(bitst2, bitsRx_NN)"
   ]
  },
  {
   "cell_type": "markdown",
   "id": "53b814d7",
   "metadata": {},
   "source": [
    "# Avaliação da rede com uma fibra de 100 km"
   ]
  },
  {
   "cell_type": "code",
   "execution_count": 33,
   "id": "408f6caa",
   "metadata": {},
   "outputs": [
    {
     "name": "stdout",
     "output_type": "stream",
     "text": [
      "BER = 1.55e-01 \n",
      "BER_NN = 1.47e-01 \n",
      "BER = 1.32e-01 \n",
      "BER_NN = 1.20e-01 \n",
      "BER = 1.13e-01 \n",
      "BER_NN = 9.46e-02 \n",
      "BER = 9.45e-02 \n",
      "BER_NN = 7.18e-02 \n",
      "BER = 7.89e-02 \n",
      "BER_NN = 5.25e-02 \n",
      "BER = 6.57e-02 \n",
      "BER_NN = 3.66e-02 \n",
      "BER = 5.47e-02 \n",
      "BER_NN = 2.45e-02 \n",
      "BER = 4.53e-02 \n",
      "BER_NN = 1.54e-02 \n",
      "BER = 3.80e-02 \n",
      "BER_NN = 9.36e-03 \n",
      "BER = 3.22e-02 \n",
      "BER_NN = 5.26e-03 \n",
      "BER = 2.76e-02 \n",
      "BER_NN = 2.89e-03 \n",
      "BER = 2.39e-02 \n",
      "BER_NN = 1.48e-03 \n",
      "BER = 2.14e-02 \n",
      "BER_NN = 7.40e-04 \n",
      "BER = 1.93e-02 \n",
      "BER_NN = 3.21e-04 \n",
      "BER = 1.76e-02 \n",
      "BER_NN = 1.37e-04 \n"
     ]
    }
   ],
   "source": [
    "discard = 100\n",
    "power = np.arange(-15, 0)\n",
    "BER = np.zeros(power.size)\n",
    "BER_NN = np.zeros(power.size)\n",
    "SpS_out = 1\n",
    "Ntaps = 64\n",
    "\n",
    "for ind, Pin in enumerate(power):\n",
    "    sinaltx70, symbtx70 = SimulaSinalOptico(SpS = SpS2, Rs = Rs2, M = M2, Pi_dBm = Pin)\n",
    "    \n",
    "    irx70 = SimulaCanalOptico(sinaltx70, SpS = SpS2, Rs = Rs2, dist_fibra = 100)\n",
    "    \n",
    "    bitsTx70 = RecuperaBits(sinaltx70, SpS2, M2)\n",
    "    bitsRx70 = RecuperaBits(irx70, SpS2, M2)\n",
    "    \n",
    "    err = np.logical_xor(bitsRx70[discard:bitsRx70.size-discard], bitsTx70[discard:bitsTx70.size-discard])\n",
    "    BER[ind] = np.mean(err)\n",
    "    \n",
    "    print('BER = %.2e '%(BER[ind]))\n",
    "    \n",
    "    signalrx = pnorm(irx70[0::SpS_in//SpS_out])\n",
    "    signalrx= (signalrx - np.mean(signalrx))/np.std(signalrx)\n",
    "    \n",
    "    dataset = slidingWindowDataSet(signalrx, symbtx70, Ntaps, SpS_out)\n",
    "    \n",
    "    dataloader = DataLoader(dataset, batch_size=len(dataset), shuffle=False)\n",
    "\n",
    "    equalizer.eval()\n",
    "    with torch.no_grad():\n",
    "        for batch, (X, y) in enumerate(dataloader):\n",
    "            X = X.float()\n",
    "            pred = equalizer(X)\n",
    "            symbRx_NN = pred\n",
    "            symbRx_NN = symbRx_NN.numpy().reshape(-1,)\n",
    "    \n",
    "    bitsRx_NN = demodulateGray(np.sqrt(Es)*pnorm(symbRx_NN), M2, 'pam')\n",
    "\n",
    "    #discard = 1000\n",
    "    err = np.logical_xor(bitsRx_NN[discard:bitsRx_NN.size-discard], bitsTx70[discard:bitsTx70.size-discard])\n",
    "    BER_NN[ind] = np.mean(err)\n",
    "\n",
    "    #Pb = 0.5*erfc(Q/np.sqrt(2)) # theoretical error probability\n",
    "    print('BER_NN = %.2e '%(BER_NN[ind]))"
   ]
  },
  {
   "cell_type": "code",
   "execution_count": 34,
   "id": "3cc13b2e",
   "metadata": {},
   "outputs": [
    {
     "data": {
      "text/plain": [
       "Text(0, 0.5, 'log10(BER)')"
      ]
     },
     "execution_count": 34,
     "metadata": {},
     "output_type": "execute_result"
    },
    {
     "data": {
      "image/png": "[encoded data removed]",
      "text/plain": [
       "<Figure size 1000x300 with 1 Axes>"
      ]
     },
     "metadata": {},
     "output_type": "display_data"
    }
   ],
   "source": [
    "plt.plot(power, np.log10(BER),'-o', label='BER')\n",
    "plt.plot(power, np.log10(BER_NN),'-s', label='BER_NN')\n",
    "plt.grid()\n",
    "plt.legend();\n",
    "plt.title('BER x Pi_dBm')\n",
    "plt.xlabel('Pi (dBm)')\n",
    "plt.ylabel('log10(BER)')"
   ]
  },
  {
   "cell_type": "markdown",
   "id": "ffb6534d",
   "metadata": {},
   "source": [
    "# Avaliação da mesma rede para um canal de 80 km"
   ]
  },
  {
   "cell_type": "code",
   "execution_count": 35,
   "id": "70286616",
   "metadata": {},
   "outputs": [
    {
     "name": "stdout",
     "output_type": "stream",
     "text": [
      "BER = 7.14e-02 \n",
      "BER_NN = 7.38e-02 \n",
      "BER = 5.01e-02 \n",
      "BER_NN = 5.15e-02 \n",
      "BER = 3.33e-02 \n",
      "BER_NN = 3.48e-02 \n",
      "BER = 2.13e-02 \n",
      "BER_NN = 2.27e-02 \n",
      "BER = 1.29e-02 \n",
      "BER_NN = 1.43e-02 \n",
      "BER = 7.59e-03 \n",
      "BER_NN = 9.02e-03 \n",
      "BER = 4.32e-03 \n",
      "BER_NN = 5.49e-03 \n",
      "BER = 2.43e-03 \n",
      "BER_NN = 3.44e-03 \n",
      "BER = 1.39e-03 \n",
      "BER_NN = 2.08e-03 \n",
      "BER = 8.43e-04 \n",
      "BER_NN = 1.25e-03 \n",
      "BER = 5.38e-04 \n",
      "BER_NN = 7.33e-04 \n",
      "BER = 3.61e-04 \n",
      "BER_NN = 4.35e-04 \n",
      "BER = 2.25e-04 \n",
      "BER_NN = 2.67e-04 \n",
      "BER = 1.48e-04 \n",
      "BER_NN = 1.54e-04 \n",
      "BER = 1.19e-04 \n",
      "BER_NN = 8.80e-05 \n"
     ]
    }
   ],
   "source": [
    "discard = 100\n",
    "power = np.arange(-15, 0)\n",
    "BER = np.zeros(power.size)\n",
    "BER_NN = np.zeros(power.size)\n",
    "SpS_out = 1\n",
    "Ntaps = 64\n",
    "\n",
    "for ind, Pin in enumerate(power):\n",
    "    sinaltx70, symbtx70 = SimulaSinalOptico(SpS = SpS2, Rs = Rs2, M = M2, Pi_dBm = Pin)\n",
    "    \n",
    "    irx70 = SimulaCanalOptico(sinaltx70, SpS = SpS2, Rs = Rs2, dist_fibra = 80)\n",
    "    \n",
    "    bitsTx70 = RecuperaBits(sinaltx70, SpS2, M2)\n",
    "    bitsRx70 = RecuperaBits(irx70, SpS2, M2)\n",
    "    \n",
    "    err = np.logical_xor(bitsRx70[discard:bitsRx70.size-discard], bitsTx70[discard:bitsTx70.size-discard])\n",
    "    BER[ind] = np.mean(err)\n",
    "    \n",
    "    print('BER = %.2e '%(BER[ind]))\n",
    "    \n",
    "    signalrx = pnorm(irx70[0::SpS_in//SpS_out])\n",
    "    signalrx= (signalrx - np.mean(signalrx))/np.std(signalrx)\n",
    "    \n",
    "    dataset = slidingWindowDataSet(signalrx, symbtx70, Ntaps, SpS_out)\n",
    "    \n",
    "    dataloader = DataLoader(dataset, batch_size=len(dataset), shuffle=False)\n",
    "\n",
    "    equalizer.eval()\n",
    "    with torch.no_grad():\n",
    "        for batch, (X, y) in enumerate(dataloader):\n",
    "            X = X.float()\n",
    "            pred = equalizer(X)\n",
    "            symbRx_NN = pred\n",
    "            symbRx_NN = symbRx_NN.numpy().reshape(-1,)\n",
    "    \n",
    "    bitsRx_NN = demodulateGray(np.sqrt(Es)*pnorm(symbRx_NN), M2, 'pam')\n",
    "\n",
    "    #discard = 1000\n",
    "    err = np.logical_xor(bitsRx_NN[discard:bitsRx_NN.size-discard], bitsTx70[discard:bitsTx70.size-discard])\n",
    "    BER_NN[ind] = np.mean(err)\n",
    "\n",
    "    #Pb = 0.5*erfc(Q/np.sqrt(2)) # theoretical error probability\n",
    "    print('BER_NN = %.2e '%(BER_NN[ind]))"
   ]
  },
  {
   "cell_type": "code",
   "execution_count": 36,
   "id": "bd827efb",
   "metadata": {},
   "outputs": [
    {
     "data": {
      "text/plain": [
       "Text(0, 0.5, 'log10(BER)')"
      ]
     },
     "execution_count": 36,
     "metadata": {},
     "output_type": "execute_result"
    },
    {
     "data": {
      "image/png": "[encoded data removed]",
      "text/plain": [
       "<Figure size 1000x300 with 1 Axes>"
      ]
     },
     "metadata": {},
     "output_type": "display_data"
    }
   ],
   "source": [
    "plt.plot(power, np.log10(BER),'-o', label='BER')\n",
    "plt.plot(power, np.log10(BER_NN),'-s', label='BER_NN')\n",
    "plt.grid()\n",
    "plt.legend();\n",
    "plt.title('BER x Pi_dBm - 80 km')\n",
    "plt.xlabel('Pi (dBm)')\n",
    "plt.ylabel('log10(BER)')"
   ]
  },
  {
   "cell_type": "code",
   "execution_count": null,
   "id": "8ec39ff1",
   "metadata": {},
   "outputs": [],
   "source": []
  }
 ],
 "metadata": {
  "kernelspec": {
   "display_name": "Python 3 (ipykernel)",
   "language": "python",
   "name": "python3"
  },
  "language_info": {
   "codemirror_mode": {
    "name": "ipython",
    "version": 3
   },
   "file_extension": ".py",
   "mimetype": "text/x-python",
   "name": "python",
   "nbconvert_exporter": "python",
   "pygments_lexer": "ipython3",
   "version": "3.9.13"
  }
 },
 "nbformat": 4,
 "nbformat_minor": 5
}
