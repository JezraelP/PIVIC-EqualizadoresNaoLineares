{
 "cells": [
  {
   "cell_type": "code",
   "execution_count": 1,
   "id": "02695a06",
   "metadata": {},
   "outputs": [],
   "source": [
    "import matplotlib.pyplot as plt\n",
    "import torch\n",
    "from torch.utils.data import Dataset"
   ]
  },
  {
   "cell_type": "code",
   "execution_count": 2,
   "id": "a0f45bc8",
   "metadata": {},
   "outputs": [],
   "source": [
    "import os\n",
    "os.environ['KMP_DUPLICATE_LIB_OK'] = 'True'"
   ]
  },
  {
   "cell_type": "markdown",
   "id": "7000ef6a",
   "metadata": {},
   "source": [
    "# Redes Neurais Artificiais com PyTorch\n",
    "# Sumário\n",
    "\n",
    "[1. Operações com Tensores](#heading--1)\n",
    "\n",
    "[2. DataSets e DataLoaders](#heading--2)\n",
    "\n",
    "   * [2.1 Carregando um DataSet](#heading--2-1)\n",
    "    \n",
    "   * [2.2 Criando um DataSet](#heading--2-2)\n",
    "    \n",
    "   * [2.3 Preparando os Dados para Treino com DataLoaders](#heading--2-3)\n",
    "   \n",
    "[3. Construindo uma Rede Neural](#heading--3)\n",
    "\n",
    "   * [3.1 Definindo a Classe](#heading--3-1)\n",
    "\n",
    "<a id=\"heading--1\"></a>\n",
    "## Operações com Tensores\n",
    "Os tensores no PyTorch são matrizes multidimensionais que representam dados. Eles são semelhantes aos arrays do Numpy, mas têm algumas vantagens, como poder ser operados em GPUs e armazenar o histórico de cálculos para facilitar a diferenciação automática.\n",
    "\n",
    "Os tensores podem ser criados a partir de listas Python, arrays Numpy ou valores aleatórios usando a classe torch.Tensor ou suas subclasses2. Os tensores são a base para o aprendizado profundo com PyTorch, pois permitem a construção e o treinamento de redes neurais complexas."
   ]
  },
  {
   "cell_type": "code",
   "execution_count": 4,
   "id": "2b64e736",
   "metadata": {},
   "outputs": [
    {
     "name": "stdout",
     "output_type": "stream",
     "text": [
      "Tensor aleatório:\n",
      " tensor([[0.6040, 0.9285, 0.9023, 0.4302],\n",
      "        [0.9853, 0.1960, 0.4399, 0.9621],\n",
      "        [0.1447, 0.3533, 0.1061, 0.5491]])\n",
      "\n",
      "Tensor preenchido com 1s:\n",
      " tensor([[1., 1.],\n",
      "        [1., 1.]])\n",
      "\n",
      "\n",
      "Indexação e Fatiamento:\n",
      "\n",
      "Primeira Linha: tensor([1., 1., 1., 1.])\n",
      "Primeira Coluna: tensor([1., 1., 1., 1.])\n",
      "Última Coluna: tensor([1., 1., 1., 1.])\n",
      "tensor([[1., 0., 1., 1.],\n",
      "        [1., 0., 1., 1.],\n",
      "        [1., 0., 1., 1.],\n",
      "        [1., 0., 1., 1.]])\n",
      "Concatenação:\n",
      "\n",
      "tensor([[1., 0., 1., 1.],\n",
      "        [1., 0., 1., 1.],\n",
      "        [1., 0., 1., 1.],\n",
      "        [1., 0., 1., 1.],\n",
      "        [1., 0., 1., 1.],\n",
      "        [1., 0., 1., 1.],\n",
      "        [1., 0., 1., 1.],\n",
      "        [1., 0., 1., 1.],\n",
      "        [1., 0., 1., 1.],\n",
      "        [1., 0., 1., 1.],\n",
      "        [1., 0., 1., 1.],\n",
      "        [1., 0., 1., 1.]])\n"
     ]
    }
   ],
   "source": [
    "tensor = torch.rand(3,4)\n",
    "tensor1 = torch.ones(2,2)\n",
    "\n",
    "print(\"Tensor aleatório:\\n\", tensor)\n",
    "print(\"\\nTensor preenchido com 1s:\\n\", tensor1)\n",
    "print(\"\\n\")\n",
    "\n",
    "#Indexação e fatiamento semelhante a Numpy\n",
    "\n",
    "print(\"Indexação e Fatiamento:\\n\")\n",
    "tensor = torch.ones(4, 4)\n",
    "print(f\"Primeira Linha: {tensor[0]}\")\n",
    "print(f\"Primeira Coluna: {tensor[:, 0]}\")\n",
    "print(f\"Última Coluna: {tensor[..., -1]}\")\n",
    "tensor[:,1] = 0\n",
    "print(tensor)\n",
    "\n",
    "print(\"Concatenação:\\n\")\n",
    "t1 = torch.cat([tensor, tensor, tensor], dim=0)    #dimensão do novo vetor\n",
    "print(t1)"
   ]
  },
  {
   "cell_type": "code",
   "execution_count": 5,
   "id": "d652876e",
   "metadata": {},
   "outputs": [
    {
     "name": "stdout",
     "output_type": "stream",
     "text": [
      "\n",
      "Matriz Transposta:\n",
      " tensor([[1., 1., 1., 1.],\n",
      "        [0., 0., 0., 0.],\n",
      "        [1., 1., 1., 1.],\n",
      "        [1., 1., 1., 1.]])\n",
      "\n",
      "Mutiplicação Matricial:\n",
      " tensor([[3., 3., 3., 3.],\n",
      "        [3., 3., 3., 3.],\n",
      "        [3., 3., 3., 3.],\n",
      "        [3., 3., 3., 3.]])\n"
     ]
    }
   ],
   "source": [
    "#Mutiplicação Matricial\n",
    "y0 = tensor.T\n",
    "\n",
    "y1 = tensor @ tensor.T\n",
    "y2 = tensor.matmul(tensor.T)\n",
    "print(\"\\nMatriz Transposta:\\n\", y0)\n",
    "print(\"\\nMutiplicação Matricial:\\n\", y2)"
   ]
  },
  {
   "cell_type": "code",
   "execution_count": 6,
   "id": "3370986a",
   "metadata": {},
   "outputs": [
    {
     "name": "stdout",
     "output_type": "stream",
     "text": [
      "Multiplicação termo a termo:\n",
      " tensor([[1., 0., 1., 1.],\n",
      "        [1., 0., 1., 1.],\n",
      "        [1., 0., 1., 1.],\n",
      "        [1., 0., 1., 1.]])\n"
     ]
    }
   ],
   "source": [
    "#Multiplicação termo a termo\n",
    "z1 = tensor * tensor\n",
    "z2 = tensor.mul(tensor)\n",
    "print(\"Multiplicação termo a termo:\\n\", z2)"
   ]
  },
  {
   "cell_type": "markdown",
   "id": "37fa513a",
   "metadata": {},
   "source": [
    "<a id=\"heading--2\"></a>\n",
    "## DataSets e DataLoaders\n",
    "\n",
    "O código para processar amostras de dados pode ficar confuso e difícil de manter; idealmente, queremos que nosso código de conjunto de dados seja desacoplado do nosso código de treinamento de modelo para melhor legibilidade e modularidade. \n",
    "\n",
    "*Dataset* armazena as amostras e seus rótulos correspondentes, e *DataLoader* envolve um iterável em torno do *Dataset* para permitir um fácil acesso às amostras. PyTorch fornece duas primitivas de dados: **torch.utils.data.DataLoader** e __torch.utils.data.Dataset__ que permitem que você use conjuntos de dados pré-carregados, bem como seus próprios dados"
   ]
  },
  {
   "cell_type": "markdown",
   "id": "294720a6",
   "metadata": {},
   "source": [
    "<a id=\"heading--2-1\"></a>\n",
    "### Carregando um DataSet\n",
    "\n",
    "Aqui está um exemplo de como carregar o conjunto de dados Fashion-MNIST do TorchVision1. Fashion-MNIST é um conjunto de dados de imagens de artigos da Zalando, consistindo de 60.000 exemplos de treinamento e 10.000 exemplos de teste2. Cada exemplo é composto por uma imagem em escala de cinza de 28×28 e um rótulo associado de uma das 10 classes.\n",
    "\n",
    "Carregamos o conjunto de dados FashionMNIST com os seguintes parâmetros: \n",
    "\n",
    "**root** é o caminho onde os dados de treino/teste são armazenados,\n",
    "\n",
    "**train** especifica o conjunto de dados de treinamento ou teste,\n",
    "\n",
    "**download=True** baixa os dados da internet se eles não estiverem disponíveis em root.\n",
    "\n",
    "**transform** e **target_transform** especificam as transformações de características e rótulos"
   ]
  },
  {
   "cell_type": "code",
   "execution_count": 7,
   "id": "eb5b0117",
   "metadata": {},
   "outputs": [],
   "source": [
    "from torch.utils.data import Dataset\n",
    "from torchvision import datasets\n",
    "from torchvision.transforms import ToTensor\n",
    "\n",
    "\n",
    "training_data = datasets.FashionMNIST(\n",
    "    root=\"data\",\n",
    "    train=True,\n",
    "    download=True,\n",
    "    transform=ToTensor()\n",
    ")\n",
    "\n",
    "test_data = datasets.FashionMNIST(\n",
    "    root=\"data\",\n",
    "    train=False,\n",
    "    download=True,\n",
    "    transform=ToTensor()\n",
    ")"
   ]
  },
  {
   "cell_type": "markdown",
   "id": "6ad09bae",
   "metadata": {},
   "source": [
    "<a id=\"heading--2-2\"></a>\n",
    "### Criando um Dataset\n",
    "Para a riação de um objeto que herde a classe Dataset, é necessário a utilização de três funções:\n",
    "\n",
    "__init__: Fornece o conjunto de dados para a calsse;\n",
    "__len__: Retorna o tamanho do conjunto de dados;\n",
    "__getitem__: Retorna o dado de indíce especificado.\n",
    "\n",
    "Os dados podem ser armazenados em arquivos externos como arquivos CSV, que contém tanto o conjunto de dados como a etiqueta dos dados. Também é possível passar parâmetros que representem funções, para geração de dados na própria criação da classe.\n"
   ]
  },
  {
   "cell_type": "code",
   "execution_count": 8,
   "id": "b0e557b5",
   "metadata": {},
   "outputs": [],
   "source": [
    "class Dados(Dataset):\n",
    "    def __init__(media, desvio, qamostras):\n",
    "        # Cria uma distribuição normal com média 0 e desvio padrão 1\n",
    "        self.distribuicao = Normal(torch.tensor([0.0]), torch.tensor([1.0]))\n",
    "\n",
    "        # Gera dez amostras aleatórias\n",
    "        self.amostras = self.distribuicao.sample((qamostras,))\n",
    "    \n",
    "    def __len__(self):\n",
    "        return len(self.amostras)\n",
    "    \n",
    "    def __getitem__(self, i):\n",
    "        return self.amostras[i]\n",
    "\n"
   ]
  },
  {
   "cell_type": "markdown",
   "id": "01c0c95c",
   "metadata": {},
   "source": [
    "<a id=\"heading--2-3\"></a>\n",
    "### Preparando os Dados para Treino com DataLoaders\n",
    "\n",
    "É interesssante que para o treinamento do modelo, os dados sejam passados em lotes, e a cada _época_, eles sejam reorganizados, para evitar o overfitting - Situação indesejável na qual o modelo se adequa perfeitamente aos dados, mas não consegue generalizar para outros conjuntos de dados, tornando o modelo inútil -, e usar o multiprocessamento do Python para acelerar a recuperação de dados.\n",
    "\n",
    "DataLoader é um iterável que faz justamente esse processo, em uma API(Interface de Programação de Aplicações) fácil de usar"
   ]
  },
  {
   "cell_type": "code",
   "execution_count": null,
   "id": "85e4ee13",
   "metadata": {},
   "outputs": [],
   "source": [
    "from torch.utils.data import DataLoader\n",
    "\n",
    "#Define um conjunto de dados a partir da classe Dados para treinamento e teste\n",
    "training_dataset = Dados(0,1, 1000)\n",
    "test_dataset = Dados(0,1,100)\n",
    "\n",
    "#Define os dataloaders para treinamento e teste\n",
    "training_dataloader = DataLoader(training_dataset, batch_size = 200, shuffle = True)\n",
    "test_dataloader = DataLoader(test_dataset, batch_size = 20, shuffle = True)\n",
    "\n",
    "\n",
    "# Cria um iterador para o DataLoader\n",
    "data_iter = iter(train_dataloader)\n",
    "\n",
    "# Obtém o primeiro lote de dados\n",
    "first_batch = next(data_iter)\n",
    "\n",
    "# Imprime o formato do primeiro lote de dados\n",
    "print(first_batch.shape)"
   ]
  },
  {
   "cell_type": "markdown",
   "id": "98f82c56",
   "metadata": {},
   "source": [
    "<a id=\"heading--3\"></a>\n",
    "## Construindo uma Rede Neural\n",
    "\n",
    "As redes neurais são modelos computacionais, formadas por camadas de neurônios artificiais, estruturas que realizam operações paramétricas com os dados de entrada. O namespace __torch.nn__ fornece todos os blocos necessários para a construção de uma rede neural.\n",
    "\n",
    "Todo módulo no PyTorch é uma subclasse do __nn.Module__, e a rede é basicamente um módulo composto por outros módulos. Aqui, será desenvolvido um modelo de regressão para aproximação de valores aleatórios, com distribuição de probabilidade Gaussiana."
   ]
  },
  {
   "cell_type": "markdown",
   "id": "1a1ce3d8",
   "metadata": {},
   "source": [
    "<a id=\"heading--3-1\"></a>\n",
    "### Definindo a Classe\n",
    "\n"
   ]
  },
  {
   "cell_type": "code",
   "execution_count": null,
   "id": "dd957bee",
   "metadata": {},
   "outputs": [],
   "source": []
  }
 ],
 "metadata": {
  "kernelspec": {
   "display_name": "Python 3 (ipykernel)",
   "language": "python",
   "name": "python3"
  },
  "language_info": {
   "codemirror_mode": {
    "name": "ipython",
    "version": 3
   },
   "file_extension": ".py",
   "mimetype": "text/x-python",
   "name": "python",
   "nbconvert_exporter": "python",
   "pygments_lexer": "ipython3",
   "version": "3.9.13"
  }
 },
 "nbformat": 4,
 "nbformat_minor": 5
}
